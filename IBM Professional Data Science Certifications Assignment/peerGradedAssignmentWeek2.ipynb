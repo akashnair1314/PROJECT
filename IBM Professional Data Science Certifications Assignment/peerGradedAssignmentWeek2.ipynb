{
 "cells": [
  {
   "cell_type": "markdown",
   "id": "80bf7295-649d-4681-b7c4-530d03b63405",
   "metadata": {},
   "source": [
    "# Title : Week 2 Tools for Data Science (peer graded assignment)"
   ]
  },
  {
   "cell_type": "markdown",
   "id": "24ef8968-37d8-4553-8320-c2002ef04861",
   "metadata": {},
   "source": [
    "# Exercise 3\n",
    "Introduction \n",
    "Hi this Jupyter notebook is created as part of my peer graded assignment in compliance with the excersise provided by coursera"
   ]
  },
  {
   "cell_type": "markdown",
   "id": "b129020a-5811-4bc9-88f5-3ad4803c8dfe",
   "metadata": {},
   "source": [
    "# Exercise 4\n",
    "List of Data science languages\n",
    "* python\n",
    "* R language\n",
    "* SQL\n",
    "* julia\n",
    "* javascript\n"
   ]
  },
  {
   "cell_type": "markdown",
   "id": "8b6381a2-ce6a-4531-8bd8-5b2f54972e32",
   "metadata": {},
   "source": [
    "# Exercise 5\n",
    "Data Science Libraries\n",
    "* pandas\n",
    "* numpy\n",
    "* matplotlib\n",
    "* seaborn\n",
    "* keras\n",
    "* tensorflow\n",
    "* scikit\n"
   ]
  },
  {
   "cell_type": "markdown",
   "id": "14df1d26-d6ec-40ee-b2a6-eea373d399eb",
   "metadata": {},
   "source": [
    "# Excercise 6 Data Science Tools Table\n",
    "|Data Science Tools|\n",
    "|---|\n",
    "|Tensorflow|\n",
    "|SAS|\n",
    "|Excel|\n",
    "|Apache Spark|"
   ]
  },
  {
   "cell_type": "markdown",
   "id": "9a1210eb-5d47-442f-83bd-473fee2b90fa",
   "metadata": {},
   "source": [
    "# Excercise 7 Arithmetic Expression Example\n",
    "* 1+1 =2\n",
    "* 2-2 =0\n",
    "* 2*2 =4\n",
    "* 2/2 =1"
   ]
  },
  {
   "cell_type": "code",
   "execution_count": 8,
   "id": "ba3bf94b-4644-44c6-ba6f-e991b6e7b5b5",
   "metadata": {},
   "outputs": [
    {
     "name": "stdin",
     "output_type": "stream",
     "text": [
      "Enter the first no 5\n",
      "Enter the first no 15\n"
     ]
    },
    {
     "name": "stdout",
     "output_type": "stream",
     "text": [
      "The result of sum of 5 and 15 is 20\n",
      "The result of product of 5 and 15 is 75\n"
     ]
    }
   ],
   "source": [
    "#Excercise 8\n",
    "a=int(input(\"Enter the first no\"))\n",
    "b=int(input(\"Enter the first no\"))\n",
    "print(\"The result of sum of\",a,\"and\",b,\"is\",a+b)\n",
    "print(\"The result of product of\",a,\"and\",b,\"is\",a*b)"
   ]
  },
  {
   "cell_type": "code",
   "execution_count": 13,
   "id": "50d7b4ef-0abd-40ef-b2b7-2400691fbd36",
   "metadata": {},
   "outputs": [
    {
     "name": "stdin",
     "output_type": "stream",
     "text": [
      "Enter the minutes value 240\n"
     ]
    },
    {
     "name": "stdout",
     "output_type": "stream",
     "text": [
      "result of Minutes to Hours is 4.0\n"
     ]
    }
   ],
   "source": [
    "#Exercise 9 - Create a code cell to convert minutes to hours\n",
    "minutes=int(input(\"Enter the minutes value\"))\n",
    "hour=minutes/60\n",
    "print(\"result of Minutes to Hours is\",hour)"
   ]
  },
  {
   "cell_type": "markdown",
   "id": "3af84ad5-715a-49f6-b2e8-9e0f6dc05239",
   "metadata": {},
   "source": [
    "# Exercise 10 -Insert a markdown cell to list Objectives.\n",
    "* Exercise 2 - Create a markdown cell with the title of the notebook. (1 pt)\n",
    "* Exercise 3 - Create a markdown cell for an introduction. (1 pt)\r",
    "* Exercise 4 - Create a markdown cell to list data science languages. (3 pts)\n",
    "* Exercise 5 - Create a markdown cell to list data science libraries. (3 pts)\n",
    "* Exercise 6 - Create a markdown cell with a table of Data Science tools. (3 pts)\n",
    "* Exercise 7 - Create a markdown cell introducing arithmetic expression examples. (1 pt)\n",
    "* Exercise 8 - Create a code cell to multiply and add numbers. (2 pts)\n",
    "* Exercise 9 - Create a code cell to convert minutes to hours. (2 pts)\n",
    "* Exercise 10 -Insert a markdown cell to list Objectives. (3 pts)\n",
    "* Exercise 11 - Create a markdown cell to indicate the Author’s name. (2 pts)\n",
    "* Exercise 12 - Share your notebook through GitHub (3 pts)\n",
    "* Exercise 13 - Take a screenshot of the first page of the notebook. (1 pt)\n",
    "* The main grading criteria will be:\r\n",
    "\r\n",
    "Is the notebook publicly viewable?\r\n",
    "\r\n",
    "Are there, or do there appear to be, at least 8 Markdown cells and 2 code cells? \r\n",
    "\r\n",
    "Are the criteria for each cell fulfilled, as described in the \"Guidelines for Submission\"?\r\n",
    "\r\n",
    "You will not be judged on:\r\n",
    "\r\n",
    "Your English language, including spelling or grammatical mistakes.\r\n",
    "\r\n",
    "\n",
    "\r\n",
    "\n",
    "\r\n",
    "\r\n",
    " spelling or grammatical mistakes."
   ]
  },
  {
   "cell_type": "markdown",
   "id": "7def7818-d470-4a2f-954e-b343627e9f90",
   "metadata": {},
   "source": [
    "# Exercise 11\n",
    "# Author : Akash Nair"
   ]
  }
 ],
 "metadata": {
  "kernelspec": {
   "display_name": "Python 3 (ipykernel)",
   "language": "python",
   "name": "python3"
  },
  "language_info": {
   "codemirror_mode": {
    "name": "ipython",
    "version": 3
   },
   "file_extension": ".py",
   "mimetype": "text/x-python",
   "name": "python",
   "nbconvert_exporter": "python",
   "pygments_lexer": "ipython3",
   "version": "3.12.0"
  }
 },
 "nbformat": 4,
 "nbformat_minor": 5
}
