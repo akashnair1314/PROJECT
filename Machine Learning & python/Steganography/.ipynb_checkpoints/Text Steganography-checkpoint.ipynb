{
 "cells": [
  {
   "cell_type": "code",
   "execution_count": null,
   "metadata": {
    "_cell_guid": "b1076dfc-b9ad-4769-8c92-a6c4dae69d19",
    "_uuid": "8f2839f25d086af736a60e9eeb907d3b93b6e0e5",
    "id": "tsvsze-gMWQ-"
   },
   "outputs": [],
   "source": [
    "# This Python 3 environment comes with many helpful analytics libraries installed\n",
    "# It is defined by the kaggle/python Docker image: https://github.com/kaggle/docker-python\n",
    "# For example, here's several helpful packages to load\n",
    "\n",
    "import numpy as np # linear algebra\n",
    "import pandas as pd # data processing, CSV file I/O (e.g. pd.read_csv)\n",
    "\n",
    "# Input data files are available in the read-only \"../input/\" directory\n",
    "# For example, running this (by clicking run or pressing Shift+Enter) will list all files under the input directory\n",
    "\n",
    "import os\n",
    "for dirname, _, filenames in os.walk('/kaggle/input'):\n",
    "    for filename in filenames:\n",
    "        print(os.path.join(dirname, filename))\n",
    "\n",
    "# You can write up to 5GB to the current directory (/kaggle/working/) that gets preserved as output when you create a version using \"Save & Run All\" \n",
    "# You can also write temporary files to /kaggle/temp/, but they won't be saved outside of the current session"
   ]
  },
  {
   "cell_type": "code",
   "execution_count": null,
   "metadata": {
    "id": "mn6mUNo9MWRD"
   },
   "outputs": [],
   "source": [
    "import cv2\n"
   ]
  },
  {
   "cell_type": "markdown",
   "metadata": {
    "id": "IDfZFXNkMWRF"
   },
   "source": [
    "# Checking Text to Binary-->"
   ]
  },
  {
   "cell_type": "code",
   "execution_count": null,
   "metadata": {
    "_cell_guid": "79c7e3d0-c299-4dcb-8224-4455121ee9b0",
    "_uuid": "d629ff2d2480ee46fbb7e2d37f6b5fab8052498a",
    "id": "Dm_B-EotMWRG"
   },
   "outputs": [],
   "source": [
    "name=\"MynameisAkash\""
   ]
  },
  {
   "cell_type": "code",
   "execution_count": null,
   "metadata": {
    "colab": {
     "base_uri": "https://localhost:8080/"
    },
    "id": "5XgeXJztMWRJ",
    "outputId": "5085b6a3-d008-462a-c74d-58825e32a556"
   },
   "outputs": [],
   "source": [
    "print(\"The Original String is:- \"+name)"
   ]
  },
  {
   "cell_type": "code",
   "execution_count": null,
   "metadata": {
    "id": "vTAs8qJDMWRL"
   },
   "outputs": [],
   "source": [
    "res=''.join(format(ord(i),'b')for i in name)"
   ]
  },
  {
   "cell_type": "code",
   "execution_count": null,
   "metadata": {
    "colab": {
     "base_uri": "https://localhost:8080/"
    },
    "id": "oqFQZHVDMWRO",
    "outputId": "bb0a98e0-ed1f-49aa-d4f0-61da2121891d"
   },
   "outputs": [],
   "source": [
    "print(res)"
   ]
  },
  {
   "cell_type": "markdown",
   "metadata": {
    "id": "J6ZrFn0nMWRQ"
   },
   "source": [
    "# Checking Binary to Text-->"
   ]
  },
  {
   "cell_type": "code",
   "execution_count": null,
   "metadata": {
    "colab": {
     "base_uri": "https://localhost:8080/"
    },
    "id": "e4FoMdlRMWRR",
    "outputId": "95c09625-5c36-4876-a2b6-ab20d7f82cbc"
   },
   "outputs": [],
   "source": [
    "def BinaryTointeger(binary):  \n",
    "         \n",
    "    binary1 = binary  \n",
    "    decimal, i, n = 0, 0, 0\n",
    "    while(binary != 0):  \n",
    "        dec = binary % 10\n",
    "        decimal = decimal + dec * pow(2, i)  \n",
    "        binary = binary//10\n",
    "        i += 1\n",
    "    return (decimal)     \n",
    "\n",
    "bin_data =res\n",
    "   \n",
    "print(\"The binary value is:\", bin_data) \n",
    "   \n",
    "\n",
    "str_data =' '\n",
    "   \n",
    "\n",
    "for i in range(0, len(bin_data), 7): \n",
    "    temp_data = int(bin_data[i:i + 7]) \n",
    "    decimal_data = BinaryTointeger(temp_data) \n",
    "    str_data = str_data + chr(decimal_data)  \n",
    "   \n",
    "\n",
    "print(\"The Binary value after string conversion is:\",str_data) "
   ]
  },
  {
   "cell_type": "markdown",
   "metadata": {
    "id": "m2RJpGTzMWRV"
   },
   "source": [
    "# Function to convert the input message to Binary.."
   ]
  },
  {
   "cell_type": "code",
   "execution_count": null,
   "metadata": {
    "id": "nI0ghRddMWRV"
   },
   "outputs": [],
   "source": [
    "def message2binary(message):\n",
    "  if type(message) == str:\n",
    "    result= ''.join([ format(ord(i), \"08b\") for i in message ])\n",
    "    \n",
    "  elif type(message) == bytes or type(message) == np.ndarray:\n",
    "    result= [ format(i, \"08b\") for i in message ]\n",
    "    \n",
    "  elif type(message) == int or type(message) == np.uint8:\n",
    "    result=format(message, \"08b\")\n",
    "\n",
    "  else:\n",
    "    raise TypeError(\"Input type is not supported\")\n",
    "    \n",
    "  return result  "
   ]
  },
  {
   "cell_type": "markdown",
   "metadata": {
    "id": "Ru8HPYpRGCwz"
   },
   "source": [
    "# Here we are using 08b as we require 8 bit representation of binary digits.\n",
    "# If we will be using only b then it will not add 0 to convert it into 8 bits and returns the binary converted value..\n"
   ]
  },
  {
   "cell_type": "code",
   "execution_count": null,
   "metadata": {
    "id": "GHI_qLVMMWRX"
   },
   "outputs": [],
   "source": [
    "# message2binary(\"heloouserthisisAkash\")"
   ]
  },
  {
   "cell_type": "code",
   "execution_count": null,
   "metadata": {
    "id": "7tTb2MLPMWRa"
   },
   "outputs": [],
   "source": [
    "# message2binary(\"mynameisrahul\")"
   ]
  },
  {
   "cell_type": "code",
   "execution_count": null,
   "metadata": {
    "id": "dvfKkQBDMWRc"
   },
   "outputs": [],
   "source": [
    "# r,g,b=message2binary([50,35,155])"
   ]
  },
  {
   "cell_type": "markdown",
   "metadata": {
    "id": "uKrAG-ncMWRf"
   },
   "source": [
    "# Importing Image-->"
   ]
  },
  {
   "cell_type": "code",
   "execution_count": null,
   "metadata": {
    "id": "ipi8pHKzMWRf"
   },
   "outputs": [],
   "source": [
    "from IPython.display import Image\n",
    "import os"
   ]
  },
  {
   "cell_type": "code",
   "execution_count": null,
   "metadata": {
    "colab": {
     "base_uri": "https://localhost:8080/",
     "height": 385
    },
    "id": "8Zv0hu2HMWRj",
    "outputId": "4c67f386-b9ae-4a82-c3e7-edb7c7360445"
   },
   "outputs": [],
   "source": [
    "Image('/content/download.jpg')"
   ]
  },
  {
   "cell_type": "code",
   "execution_count": null,
   "metadata": {
    "id": "tGst1iN0MWRm"
   },
   "outputs": [],
   "source": [
    "image=cv2.imread(\"/content/download.jpg\")"
   ]
  },
  {
   "cell_type": "code",
   "execution_count": null,
   "metadata": {
    "_kg_hide-output": true,
    "id": "cdU4g5ffMWRq"
   },
   "outputs": [],
   "source": [
    "#image"
   ]
  },
  {
   "cell_type": "code",
   "execution_count": null,
   "metadata": {
    "id": "jbcvBMtpMWRt"
   },
   "outputs": [],
   "source": [
    "# for i in image:\n",
    "#     for pixel in i:\n",
    "#         print(pixel)"
   ]
  },
  {
   "cell_type": "markdown",
   "metadata": {
    "id": "jCkdVfl0MWRw"
   },
   "source": [
    "# How to overwrite the LSB bit of a binary number and converting it to decimal..--> "
   ]
  },
  {
   "cell_type": "code",
   "execution_count": null,
   "metadata": {
    "colab": {
     "base_uri": "https://localhost:8080/"
    },
    "id": "0BP3vQLDMWRw",
    "outputId": "9edb85a3-3d67-4523-d984-1f7b6479573f"
   },
   "outputs": [],
   "source": [
    "h='1000110'\n",
    "int(h[:-1]+'1',2)"
   ]
  },
  {
   "cell_type": "markdown",
   "metadata": {
    "id": "qDsGgU_mMWRz"
   },
   "source": [
    "# [:-1] neglects the LSB bit then we can add a bit and by int(value,2) we will change it to new decimal value.."
   ]
  },
  {
   "cell_type": "code",
   "execution_count": null,
   "metadata": {
    "id": "skpPXLvxkeGv"
   },
   "outputs": [],
   "source": [
    "list1=[ ]"
   ]
  },
  {
   "cell_type": "markdown",
   "metadata": {
    "id": "PDQJnPXbshwf"
   },
   "source": [
    "# ENCODER FUNCTION"
   ]
  },
  {
   "cell_type": "code",
   "execution_count": null,
   "metadata": {
    "id": "grsnAUBAMWRz"
   },
   "outputs": [],
   "source": [
    "def encode_data(img):\n",
    "    data=input(\"Enter the data to be Encoded:\")    \n",
    "    if (len(data) == 0): \n",
    "      raise ValueError('Data is empty')\n",
    "  \n",
    "    filename = input(\"Enter the name of the New Image after Encoding(with extension):\")\n",
    "    \n",
    "    no_bytes=(img.shape[0] * img.shape[1] * 3) // 8\n",
    "    \n",
    "    print(\"Maximum bytes to encode:\", no_bytes)\n",
    "    \n",
    "    if(len(data)>no_bytes):\n",
    "        raise ValueError(\"Error encountered Insufficient bytes, Need Bigger Image or give Less Data !!\")\n",
    "    \n",
    "    # Using the below as delimeter\n",
    "    data +='*****'    \n",
    "    \n",
    "    data_binary=message2binary(data)\n",
    "    print(data_binary)\n",
    "    data_len=len(data_binary)\n",
    "    \n",
    "    print(\"The Length of Binary data\",data_len)\n",
    "    \n",
    "    data_index = 0\n",
    "    \n",
    "    for i in img:\n",
    "        for pixel in i:\n",
    "            \n",
    "          r, g, b = message2binary(pixel)\n",
    "         # print(r)\n",
    "         # print(g)\n",
    "         # print(b)\n",
    "        #   print(pixel)\n",
    "          if data_index < data_len:\n",
    "              # hiding the data into LSB(Least Significant Bit) of Red Pixel\n",
    "#               print(\"Original Binary\",r)\n",
    "              # print(\"The old pixel\",pixel[0])\n",
    "              pixel[0] = int(r[:-1] + data_binary[data_index], 2) #changing to binary after overwrriting the LSB bit of Red Pixel\n",
    "#               print(\"Changed binary\",r[:-1] + data_binary[data_index])\n",
    "              \n",
    "              data_index += 1\n",
    "              list1.append(pixel[0])\n",
    "\n",
    "          if data_index < data_len:\n",
    "             # hiding the data into LSB of Green Pixel\n",
    "              pixel[1] = int(g[:-1] + data_binary[data_index], 2) #changing to binary after overwrriting the LSB bit of Green Pixel\n",
    "              data_index += 1\n",
    "              list1.append(pixel[1])\n",
    "\n",
    "          if data_index < data_len:\n",
    "              # hiding the data into LSB of  Blue Pixel\n",
    "              pixel[2] = int(b[:-1] + data_binary[data_index], 2) #changing to binary after overwrriting the LSB bit of Blue pixel\n",
    "              data_index += 1\n",
    "              list1.append(pixel[2])\n",
    "\n",
    "              # if data is encoded, just breaking out of the Loop\n",
    "          if data_index >= data_len:\n",
    "              break\n",
    "\n",
    "         \n",
    "  \n",
    "    cv2.imwrite(filename,img)\n",
    "    \n",
    "    print(\"Encoded the data successfully and the image is successfully saved as \",filename)"
   ]
  },
  {
   "cell_type": "markdown",
   "metadata": {
    "id": "L_Pd241urEwh"
   },
   "source": [
    "# ENCODING THE DATA-->\n",
    "\n"
   ]
  },
  {
   "cell_type": "code",
   "execution_count": null,
   "metadata": {
    "colab": {
     "base_uri": "https://localhost:8080/"
    },
    "id": "ANN_X1IIq9Rl",
    "outputId": "d4fdbce9-6591-461c-9a0a-c469bb8af0d0"
   },
   "outputs": [],
   "source": [
    "encode_data(image)"
   ]
  },
  {
   "cell_type": "markdown",
   "metadata": {
    "id": "PzWFZiERsYtX"
   },
   "source": [
    "# DECODER FUNCTION-->\n"
   ]
  },
  {
   "cell_type": "code",
   "execution_count": null,
   "metadata": {
    "id": "0ND5fZB42fk8"
   },
   "outputs": [],
   "source": [
    "def decode_data(img):\n",
    "\n",
    "  binary_data = \"\"\n",
    "  for i in img:\n",
    "      for pixel in i:\n",
    "        \n",
    "        #   print(pixel)\n",
    "          r, g, b = message2binary(pixel) \n",
    "          binary_data += r[-1]  #Extracting Encoded data from the LSB bit of Red Pixel as we have stored in LSB bit of every pixel.\n",
    "          binary_data += g[-1]  #Extracting Encoded data from the LSB bit of Green Pixel\n",
    "          binary_data += b[-1]  #Extracting Encoded data from LSB bit of Blue Pixel\n",
    "\n",
    "  # splitting by 8-bits\n",
    "  all_bytes = [ binary_data[i: i+8] for i in range(0, len(binary_data), 8) ]\n",
    "\n",
    "  # Converting the bits to Characters\n",
    "  decoded_data = \"\"\n",
    "  for byte in all_bytes:\n",
    "      decoded_data += chr(int(byte, 2))\n",
    "      if decoded_data[-5:] == \"*****\": #Checking if we have reached the delimeter which is \"*****\"\n",
    "          break\n",
    "\n",
    "  \n",
    "  print(\"The Encoded data was :--\",decoded_data[:-5])"
   ]
  },
  {
   "cell_type": "markdown",
   "metadata": {
    "id": "sfoElkn3rM5N"
   },
   "source": [
    "# DECODING THE DATA-->\n"
   ]
  },
  {
   "cell_type": "code",
   "execution_count": null,
   "metadata": {
    "id": "l1jVizTdPG2l"
   },
   "outputs": [],
   "source": [
    "image1=cv2.imread(\"/content/stegano_final.png\")"
   ]
  },
  {
   "cell_type": "code",
   "execution_count": null,
   "metadata": {
    "colab": {
     "base_uri": "https://localhost:8080/"
    },
    "id": "Bwfplo4qnfIs",
    "outputId": "e3d97fc9-b912-44ab-9781-aef78b639bca"
   },
   "outputs": [],
   "source": [
    "decode_data(image1)"
   ]
  },
  {
   "cell_type": "markdown",
   "metadata": {
    "id": "B5ejDiyAw9Qo"
   },
   "source": [
    "# The Original Image\n"
   ]
  },
  {
   "cell_type": "code",
   "execution_count": null,
   "metadata": {
    "colab": {
     "base_uri": "https://localhost:8080/",
     "height": 385
    },
    "id": "II1dAhtPw70r",
    "outputId": "e63615d9-7964-4864-90b5-b7c6139c1fac"
   },
   "outputs": [],
   "source": [
    "Image('/content/download.jpg')\n"
   ]
  },
  {
   "cell_type": "markdown",
   "metadata": {
    "id": "xBMsbei5xJsv"
   },
   "source": [
    "# The Image after Encoding Data\n"
   ]
  },
  {
   "cell_type": "code",
   "execution_count": null,
   "metadata": {
    "colab": {
     "base_uri": "https://localhost:8080/",
     "height": 385
    },
    "id": "MgKT0KEmxJgj",
    "outputId": "94b8494c-0cce-4c0f-f7dd-2d9f335e4077"
   },
   "outputs": [],
   "source": [
    "Image('/content/stegano_final.png')"
   ]
  },
  {
   "cell_type": "markdown",
   "metadata": {
    "id": "UodvtBB_G3WG"
   },
   "source": [
    "# Here we are seeing that after encoding the data also there is not much change in the image.Really we cannot find any difference between the original and the Steganographed image.."
   ]
  }
 ],
 "metadata": {
  "colab": {
   "collapsed_sections": [],
   "name": "Text Steganography final.ipynb",
   "provenance": []
  },
  "kernelspec": {
   "display_name": "Python 3 (ipykernel)",
   "language": "python",
   "name": "python3"
  },
  "language_info": {
   "codemirror_mode": {
    "name": "ipython",
    "version": 3
   },
   "file_extension": ".py",
   "mimetype": "text/x-python",
   "name": "python",
   "nbconvert_exporter": "python",
   "pygments_lexer": "ipython3",
   "version": "3.12.0"
  }
 },
 "nbformat": 4,
 "nbformat_minor": 4
}
